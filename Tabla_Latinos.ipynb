{
 "cells": [
  {
   "cell_type": "markdown",
   "id": "450fb517",
   "metadata": {},
   "source": [
    "# Matematicas Discretas II - Tarea 2 \n",
    "\n",
    "## Identificación de grupos a partir de tablas\n",
    "\n",
    "## Daniel Felipe Ahumada Hernández - 1014303476\n",
    "\n"
   ]
  },
  {
   "cell_type": "markdown",
   "id": "cb3d74fa",
   "metadata": {},
   "source": [
    "Tenemos que crear un código, el cual nos permite determinar si una tabla es un **grupo y/o una tabla latina** para ellos primero debemos capturar los datos de una tabla y guardarlos  en una estructura que podamos verificar, en este caso vamos a usar una Matrix donde guardaremos los datos\n"
   ]
  },
  {
   "cell_type": "markdown",
   "id": "5c6f8569",
   "metadata": {},
   "source": [
    "\n",
    "\n",
    "\n",
    "\n"
   ]
  },
  {
   "cell_type": "markdown",
   "id": "9faef1af",
   "metadata": {},
   "source": [
    "Vamos a hacer el ejercicio para la siguiente tabla.\n"
   ]
  },
  {
   "cell_type": "markdown",
   "id": "1907b67e",
   "metadata": {},
   "source": [
    " * | e | g1 | g2 | g3 | g4 | g5 | \n",
    "---|---| ---| ---|--- |--- |--- |\n",
    "g1 |g1 | e  | g3 | g4 | g5 | g2 |  \n",
    "g2 |g2 | g3 | e  | g5 | g1 | g4 |  \n",
    "g3 |g3 | g4 | g5 | e  | g2 | g1 |  \n",
    "g4 |g4 | g5 | g1 | g2 | e  | g3 |  \n",
    "g5 |g5 | g2 | g4 | g1 | g3 | e  | \n"
   ]
  },
  {
   "cell_type": "markdown",
   "id": "d57da994",
   "metadata": {},
   "source": [
    "# Matrix"
   ]
  },
  {
   "cell_type": "markdown",
   "id": "ab7cb472",
   "metadata": {},
   "source": [
    "Vamos a tomar esta información a partir de un archivo txt y llenaremos la Matrix "
   ]
  },
  {
   "cell_type": "code",
   "execution_count": 1,
   "id": "48210c79",
   "metadata": {},
   "outputs": [
    {
     "name": "stdout",
     "output_type": "stream",
     "text": [
      "[['1', 'e', '3', '4', '5', '2'], ['2', '3', 'e', '5', '1', '4'], ['3', '4', '5', 'e', '2', '1'], ['4', '5', '1', '2', 'e', '3'], ['5', '2', '4', '1', '3', 'e']]\n"
     ]
    }
   ],
   "source": [
    "matrix = [[0,0,0,0,0,0]]*5\n",
    "\n",
    "\n",
    "with open('tabla_latina.txt') as f:\n",
    "    file = 0\n",
    "    for line in f:\n",
    "        line = line.strip(\"\\n\")    \n",
    "        matrix[file] = line.split(',')\n",
    "        file += 1    \n",
    "print(matrix)\n",
    "f.close()     "
   ]
  },
  {
   "cell_type": "markdown",
   "id": "10ba321f",
   "metadata": {},
   "source": [
    "Con el código anterior llenamos la Matrix por medio del método open el cual nos permite leer archivos txt, luego vamos iterando línea por línea del archivo y usamos el método Strip con el argumento \"\\n\" para quitar esta parte del String. Luego usamos Split con el propósito se separa cada elemento cada vez que se encuentre una ','.\n"
   ]
  },
  {
   "cell_type": "markdown",
   "id": "a155b985",
   "metadata": {},
   "source": [
    " "
   ]
  },
  {
   "cell_type": "markdown",
   "id": "80e4b0b1",
   "metadata": {},
   "source": [
    "# Latino"
   ]
  },
  {
   "cell_type": "markdown",
   "id": "480056d2",
   "metadata": {},
   "source": [
    "El siguiente paso a realizar es comprobar si es una tabla latina, es decir que en las filas de la Matrix, los valores no se repiten"
   ]
  },
  {
   "cell_type": "code",
   "execution_count": 2,
   "id": "ffe83049",
   "metadata": {},
   "outputs": [
    {
     "name": "stdout",
     "output_type": "stream",
     "text": [
      "Es un cuadro latino\n"
     ]
    }
   ],
   "source": [
    "latino = True\n",
    "Set = set()\n",
    "for i in range(5):\n",
    "    for j in range(6):\n",
    "        Set.add(matrix[i][j])\n",
    "    if len(Set) == 5:\n",
    "        print(\"No es un cuadro latino, por lo tanto, tampoco un grupo\")\n",
    "        latino = False\n",
    "        break\n",
    "    Set.clear()\n",
    "if latino:\n",
    "    print(\"Es un cuadro latino\")\n"
   ]
  },
  {
   "cell_type": "markdown",
   "id": "cf14ad28",
   "metadata": {},
   "source": [
    " "
   ]
  },
  {
   "cell_type": "markdown",
   "id": "d4cbdc69",
   "metadata": {},
   "source": [
    "# Cerrada\n",
    "\n"
   ]
  },
  {
   "cell_type": "markdown",
   "id": "4a5a66fe",
   "metadata": {},
   "source": [
    "Vamos a comprobar que el grupo tiene la operación de grupo, para ellos vamos a verificar que en cada fila estén los elementos estén dentro del dominio del grupo"
   ]
  },
  {
   "cell_type": "code",
   "execution_count": 4,
   "id": "1439fb5a",
   "metadata": {},
   "outputs": [
    {
     "name": "stdout",
     "output_type": "stream",
     "text": [
      "Cumple la propiedad de cerradura\n"
     ]
    }
   ],
   "source": [
    "elements = ['1','2','3','4','5','e']\n",
    "cerrada = False\n",
    "falso = False\n",
    "\n",
    "for i in range(5):\n",
    "    for j in range(6):\n",
    "        cerrada = False\n",
    "        for x in range(6):\n",
    "            if matrix[i][j] == elements[x]:\n",
    "                #print(matrix[i][j], \" == \", elements[x])\n",
    "                cerrada = True\n",
    "                break\n",
    "            #print(matrix[i][j], \" == \", elements[x])        \n",
    "            \n",
    "        if cerrada == False:\n",
    "            falso = True\n",
    "            print(\"No se cumple la propiedad de cerradura, por lo tanto no es un grupo\")\n",
    "            break\n",
    "if falso == False:   \n",
    "    print(\"Cumple la propiedad de cerradura\")   \n",
    "\n"
   ]
  },
  {
   "cell_type": "markdown",
   "id": "4acd1266",
   "metadata": {},
   "source": [
    " "
   ]
  },
  {
   "cell_type": "markdown",
   "id": "095222fd",
   "metadata": {},
   "source": [
    "# Asociativa"
   ]
  },
  {
   "cell_type": "markdown",
   "id": "8e59ea99",
   "metadata": {},
   "source": [
    " "
   ]
  },
  {
   "cell_type": "markdown",
   "id": "d72f0acf",
   "metadata": {},
   "source": [
    "Ahora vamos a comprobar si es un grupo, por lo cual debemos ver si se cumple la propiedad asociativa. Para ellos podemos tomar dos caminos usar la fuerza bruta del computador y mirar si se cumple para todos los posibles casos, lo cual sería un desperdicio de recursos. Otra opción seria buscar primero si los campos inversos en la Matrix siguen un patrón y así determinar si existe un patron."
   ]
  },
  {
   "cell_type": "code",
   "execution_count": 6,
   "id": "457375eb",
   "metadata": {},
   "outputs": [
    {
     "name": "stdout",
     "output_type": "stream",
     "text": [
      "14\n"
     ]
    }
   ],
   "source": [
    "for i in range(5):\n",
    "    for in range(6):\n",
    "        if matrix[i][j] == matrix \n",
    "        \n",
    "        \n",
    "\n",
    "print()\n",
    "        \n",
    "\n"
   ]
  },
  {
   "cell_type": "markdown",
   "id": "1a62e5e6",
   "metadata": {},
   "source": [
    "# Elemento identidad y neutro"
   ]
  },
  {
   "cell_type": "markdown",
   "id": "9b4caa50",
   "metadata": {},
   "source": [
    " "
   ]
  },
  {
   "cell_type": "markdown",
   "id": "45e43d44",
   "metadata": {},
   "source": [
    "Ahora vamos a comprobar si cada elemento del grupo, tiene como resultado el elemento neutro, esto lo hacemos por medio de un \"for\" donde vamos comparando cada resultado de la operación con el valor \"e\", si llega encontrarlo en la fila eso significa que si tiene un elemento neutro y hacemos lo mismo para el resultado identidad.\n"
   ]
  },
  {
   "cell_type": "code",
   "execution_count": 96,
   "id": "b3271a0d",
   "metadata": {},
   "outputs": [
    {
     "name": "stdout",
     "output_type": "stream",
     "text": [
      "Cada elemento tiene el valor identidad y neutro como resultado\n"
     ]
    }
   ],
   "source": [
    "neutro = False\n",
    "grupo = True\n",
    "identidad = False\n",
    "\n",
    "for i in range(5):\n",
    "    neutro = False\n",
    "    identidad = False\n",
    "    for j in range(6):\n",
    "        if matrix[i][j] == \"g\"+str(i+1):\n",
    "            identidad = True\n",
    "\n",
    "        if matrix[i][j] == 'e':\n",
    "            neutro = True\n",
    "            break\n",
    "            \n",
    "    if neutro == False or identidad == False:\n",
    "        print(\"No es un grupo\")\n",
    "        grupo = False\n",
    "\n",
    "if grupo == True:\n",
    "    print(\"Cada elemento tiene el valor identidad y neutro como resultado\")\n",
    "                  "
   ]
  },
  {
   "cell_type": "markdown",
   "id": "b660217a",
   "metadata": {},
   "source": [
    " "
   ]
  }
 ],
 "metadata": {
  "kernelspec": {
   "display_name": "Python 3 (ipykernel)",
   "language": "python",
   "name": "python3"
  },
  "language_info": {
   "codemirror_mode": {
    "name": "ipython",
    "version": 3
   },
   "file_extension": ".py",
   "mimetype": "text/x-python",
   "name": "python",
   "nbconvert_exporter": "python",
   "pygments_lexer": "ipython3",
   "version": "3.9.13"
  }
 },
 "nbformat": 4,
 "nbformat_minor": 5
}
